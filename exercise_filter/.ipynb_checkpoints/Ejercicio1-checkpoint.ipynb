{
 "cells": [
  {
   "cell_type": "code",
   "execution_count": 1,
   "metadata": {
    "collapsed": false
   },
   "outputs": [
    {
     "name": "stderr",
     "output_type": "stream",
     "text": [
      "\u001b[1m\u001b[36mINFO: \u001b[39m\u001b[22m\u001b[36mRecompiling stale cache file C:\\Users\\JUDITH IVONNE\\.julia\\lib\\v0.6\\SeisIO.ji for module SeisIO.\n",
      "\u001b[39m"
     ]
    }
   ],
   "source": [
    "using SeisIO\n",
    "using PyPlot\n",
    "using DSP"
   ]
  },
  {
   "cell_type": "code",
   "execution_count": 3,
   "metadata": {
    "collapsed": false
   },
   "outputs": [
    {
     "data": {
      "text/plain": [
       "SeisData with 1 channels (1 shown)\n",
       "    ID: IV.TEOL..HHZ                                                    \n",
       "  NAME: IV.TEOL..HHZ                                                    \n",
       "   LOC: 0.000, 0.000, 0.000                                             \n",
       "    FS: 100                                                             \n",
       "  GAIN: 1.000e+00                                                       \n",
       "  RESP:                                                                 \n",
       "                                                                        \n",
       " UNITS:                                                                 \n",
       "   SRC:                                                                 \n",
       " NOTES: 1 entries                                                       \n",
       "  MISC: 0 items                                                         \n",
       "     T: 2014-11-12T12:09:57 (0 gaps)                                    \n",
       "     X: 9.250e+02                                                       \n",
       "        9.810e+02                                                       \n",
       "        1.063e+03                                                       \n",
       "        9.750e+02                                                       \n",
       "          ...                                                           \n",
       "        (nx = 60470)                                                    \n",
       "     C: 0 open, 0 total\n"
      ]
     },
     "execution_count": 3,
     "metadata": {},
     "output_type": "execute_result"
    }
   ],
   "source": [
    "z=readmseed(\"20141112T121000_20141112T122000_TEOL_chZ.msd\")"
   ]
  },
  {
   "cell_type": "code",
   "execution_count": 4,
   "metadata": {
    "collapsed": false
   },
   "outputs": [
    {
     "name": "stderr",
     "output_type": "stream",
     "text": [
      "WARNING: imported binding for e overwritten in module Main\n"
     ]
    },
    {
     "data": {
      "text/plain": [
       "SeisData with 1 channels (1 shown)\n",
       "    ID: IV.TEOL..HHE                                                    \n",
       "  NAME: IV.TEOL..HHE                                                    \n",
       "   LOC: 0.000, 0.000, 0.000                                             \n",
       "    FS: 100                                                             \n",
       "  GAIN: 1.000e+00                                                       \n",
       "  RESP:                                                                 \n",
       "                                                                        \n",
       " UNITS:                                                                 \n",
       "   SRC:                                                                 \n",
       " NOTES: 1 entries                                                       \n",
       "  MISC: 0 items                                                         \n",
       "     T: 2014-11-12T12:09:58 (0 gaps)                                    \n",
       "     X: -1.930e+03                                                      \n",
       "        -1.797e+03                                                      \n",
       "        -1.794e+03                                                      \n",
       "        -1.832e+03                                                      \n",
       "          ...                                                           \n",
       "        (nx = 60742)                                                    \n",
       "     C: 0 open, 0 total\n"
      ]
     },
     "execution_count": 4,
     "metadata": {},
     "output_type": "execute_result"
    }
   ],
   "source": [
    "e=readmseed(\"20141112T121000_20141112T122000_TEOL_chE.msd\")"
   ]
  },
  {
   "cell_type": "code",
   "execution_count": 5,
   "metadata": {
    "collapsed": false
   },
   "outputs": [
    {
     "data": {
      "text/plain": [
       "SeisData with 1 channels (1 shown)\n",
       "    ID: IV.TEOL..HHN                                                    \n",
       "  NAME: IV.TEOL..HHN                                                    \n",
       "   LOC: 0.000, 0.000, 0.000                                             \n",
       "    FS: 100                                                             \n",
       "  GAIN: 1.000e+00                                                       \n",
       "  RESP:                                                                 \n",
       "                                                                        \n",
       " UNITS:                                                                 \n",
       "   SRC:                                                                 \n",
       " NOTES: 1 entries                                                       \n",
       "  MISC: 0 items                                                         \n",
       "     T: 2014-11-12T12:09:57 (0 gaps)                                    \n",
       "     X: 8.860e+02                                                       \n",
       "        9.070e+02                                                       \n",
       "        7.380e+02                                                       \n",
       "        7.260e+02                                                       \n",
       "          ...                                                           \n",
       "        (nx = 60284)                                                    \n",
       "     C: 0 open, 0 total\n"
      ]
     },
     "execution_count": 5,
     "metadata": {},
     "output_type": "execute_result"
    }
   ],
   "source": [
    "n=readmseed(\"20141112T121000_20141112T122000_TEOL_chN.msd\")"
   ]
  },
  {
   "cell_type": "code",
   "execution_count": null,
   "metadata": {
    "collapsed": false
   },
   "outputs": [],
   "source": []
  },
  {
   "cell_type": "code",
   "execution_count": null,
   "metadata": {
    "collapsed": true
   },
   "outputs": [],
   "source": []
  }
 ],
 "metadata": {
  "anaconda-cloud": {},
  "kernelspec": {
   "display_name": "Julia 0.6.0",
   "language": "julia",
   "name": "julia-0.6"
  },
  "language_info": {
   "file_extension": ".jl",
   "mimetype": "application/julia",
   "name": "julia",
   "version": "0.6.0"
  }
 },
 "nbformat": 4,
 "nbformat_minor": 1
}
